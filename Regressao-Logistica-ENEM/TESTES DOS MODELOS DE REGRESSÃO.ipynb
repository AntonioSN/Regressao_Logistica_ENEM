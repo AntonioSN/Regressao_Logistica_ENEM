{
 "cells": [
  {
   "cell_type": "code",
   "execution_count": 1,
   "id": "71e11d76",
   "metadata": {},
   "outputs": [],
   "source": [
    "import pandas as pd \n",
    "import numpy as np\n",
    "from sklearn.linear_model import LogisticRegression\n",
    "from sklearn.model_selection import train_test_split\n",
    "from joblib import load\n",
    "from sklearn.metrics import accuracy_score\n",
    "from tabulate import tabulate\n"
   ]
  },
  {
   "cell_type": "code",
   "execution_count": 2,
   "id": "caf9c8e1",
   "metadata": {},
   "outputs": [],
   "source": [
    "#Carrega os modelos ajustados \n",
    "\n",
    "[X_2020,Y_2020,Reg2020] = load('Regressao_geral_MICRODADOS_ENEM_2020_1-1.txt')\n",
    "\n",
    "\n",
    "[X_2021,Y_2021,Reg2021] = load('Regressao_geral_MICRODADOS_ENEM_2021_1-1.txt')\n",
    "\n",
    "[X_2022,Y_2022,Reg2022] = load('Regressao_geral_MICRODADOS_ENEM_2022_1-1.txt')\n",
    "\n",
    "X = [X_2020, X_2021, X_2022]\n",
    "Y = [Y_2020, Y_2021, Y_2022]"
   ]
  },
  {
   "cell_type": "code",
   "execution_count": 3,
   "id": "032f2853",
   "metadata": {},
   "outputs": [],
   "source": [
    "regid     = {'cut_MT':  0,\n",
    "            'cut_LC':  1,\n",
    "            'cut_CH':  2,\n",
    "            'cut_CN':  3,\n",
    "            'cut_RE':  4,\n",
    "            'cut_OB':  5,\n",
    "            'cut_GE':  6,\n",
    "            'qut_MT':  7,\n",
    "            'qut_LC':  8,\n",
    "            'qut_CH':  9,\n",
    "            'qut_CN':  10,\n",
    "            'qut_RE':  11,\n",
    "            'qut_OB':  12,\n",
    "            'qut_GE':  13,\n",
    "            'todos2': 14,\n",
    "            'simples': 15\n",
    "            }\n",
    "\n",
    "endogenas = Y_2020.columns"
   ]
  },
  {
   "cell_type": "code",
   "execution_count": 4,
   "id": "e81963a6",
   "metadata": {},
   "outputs": [
    {
     "data": {
      "text/plain": [
       "2.0    160869\n",
       "3.0     52394\n",
       "1.0      3909\n",
       "4.0       182\n",
       "Name: cut_GE, dtype: int64"
      ]
     },
     "execution_count": 4,
     "metadata": {},
     "output_type": "execute_result"
    }
   ],
   "source": [
    "Y_2021['cut_GE'].value_counts()"
   ]
  },
  {
   "cell_type": "code",
   "execution_count": 5,
   "id": "c9d65e9d",
   "metadata": {
    "scrolled": true
   },
   "outputs": [
    {
     "name": "stdout",
     "output_type": "stream",
     "text": [
      "cut_MT:  0.617595195348893\n",
      "cut_LC:  0.798297419739215\n",
      "cut_CH:  0.6920360988600149\n",
      "cut_CN:  0.7739862689980846\n",
      "cut_RE:  0.4459456757740183\n",
      "cut_OB:  0.8155191510290254\n",
      "cut_GE:  0.7731505731913584\n",
      "qut_MT:  0.439192134063201\n",
      "qut_LC:  0.3592932172689141\n",
      "qut_CH:  0.3666385435701405\n",
      "qut_CN:  0.39464834800132753\n",
      "qut_RE:  0.46254363411718136\n",
      "qut_OB:  0.35462291725811806\n",
      "qut_GE:  0.34717762734364693\n"
     ]
    }
   ],
   "source": [
    "for i in endogenas:\n",
    "    print(i+\": \",accuracy_score(Reg2020[regid[i]].predict(X_2020), Y_2020[i]  ))\n"
   ]
  },
  {
   "cell_type": "markdown",
   "id": "25f32d48",
   "metadata": {},
   "source": [
    "## Modelo Simples"
   ]
  },
  {
   "cell_type": "code",
   "execution_count": 6,
   "id": "de756229",
   "metadata": {},
   "outputs": [],
   "source": [
    "# modelos simples para comparação com a regressão logística\n",
    "\n",
    "# Todos no mais frequênte\n",
    "Y_2020['todos2'] = 2\n",
    "Y_2021['todos2'] = 2\n",
    "Y_2022['todos2'] = 2\n",
    "\n",
    "# Distingui entre as duas categorias mais frequentes dado renda familiar\n",
    "Y_2020['simples'] = ( (X_2020['Renda C']==1) | (X_2020['Renda D']==1) | (X_2020['Renda E']==1) ).apply(lambda x: 3 if x==True else 2)\n",
    "Y_2021['simples'] = ( (X_2021['Renda C']==1) | (X_2021['Renda D']==1) | (X_2021['Renda E']==1) ).apply(lambda x: 3 if x==True else 2)\n",
    "Y_2022['simples'] = ( (X_2022['Renda C']==1) | (X_2022['Renda D']==1) | (X_2022['Renda E']==1) ).apply(lambda x: 3 if x==True else 2)\n"
   ]
  },
  {
   "cell_type": "code",
   "execution_count": null,
   "id": "982cd850",
   "metadata": {},
   "outputs": [],
   "source": [
    "\n"
   ]
  },
  {
   "cell_type": "code",
   "execution_count": null,
   "id": "3c42a392",
   "metadata": {},
   "outputs": [],
   "source": []
  },
  {
   "cell_type": "markdown",
   "id": "f88f91d3",
   "metadata": {},
   "source": [
    "for i in endogenas:\n",
    "    print(i)\n",
    "    for j in range(3):\n",
    "        print( 'Dados',j+2020)\n",
    "        print(' ',i,': ')\n",
    "\n",
    "        print()\n",
    "        print(format(accuracy_score(Y[j]['todos2'],Y[j][i]) ,'.3f' ))\n",
    "        print(format(accuracy_score(Y[j]['simples'],Y[j][i]),'.3f'  ))\n",
    "        print(format(accuracy_score(Reg2020[regid[i]].predict(X[j]),Y[j][i]),'.3f')  )\n",
    "        print(format(accuracy_score(Reg2021[regid[i]].predict(X[j]),Y[j][i]),'.3f')  )\n",
    "        print(format(accuracy_score(Reg2022[regid[i]].predict(X[j]),Y[j][i]),'.3f')  )\n",
    "        print()\n",
    "        "
   ]
  },
  {
   "cell_type": "code",
   "execution_count": 7,
   "id": "18b01a4f",
   "metadata": {},
   "outputs": [
    {
     "name": "stdout",
     "output_type": "stream",
     "text": [
      "\\begin{table}\n",
      "\\centering\n",
      "\\caption{Coeficientes da regressão ajustada com dados de 2020 para o desempenho geral dividido por quantis.}\n",
      "\\label{tab: qut_GE}\n",
      "\\begin{tabular}{lrrrrr}\n",
      "\\toprule\n",
      "{} &       0 &       1 &       2 &       3 &       4 \\\\\n",
      "\\midrule\n",
      "IDADE           &  1.6321 &  0.5543 & -0.0991 & -0.6781 & -1.4092 \\\\\n",
      "MASCULINO       &  0.1623 &  0.1691 & -0.0113 & -0.1738 & -0.1462 \\\\\n",
      "SOLTEIRO        & -0.0374 & -0.1179 & -0.1122 & -0.0287 &  0.2962 \\\\\n",
      "BRANCA          & -0.2785 & -0.0865 &  0.0838 &  0.1791 &  0.1021 \\\\\n",
      "PRETA           &  0.0719 &  0.0976 &  0.1009 &  0.0306 & -0.3009 \\\\\n",
      "EM CONCLUIDO    & -1.2840 & -0.7092 & -0.1842 &  0.3384 &  1.8390 \\\\\n",
      "EM NO ANO       & -0.4440 & -0.2512 & -0.0263 &  0.1834 &  0.5381 \\\\\n",
      "EM APOS         & -0.2565 & -0.1862 & -0.0158 &  0.1229 &  0.3356 \\\\\n",
      "Escola Pública  &  0.2908 &  0.2724 &  0.1417 & -0.0148 & -0.6900 \\\\\n",
      "Treineiro       & -0.2565 & -0.1862 & -0.0158 &  0.1229 &  0.3356 \\\\\n",
      "Escolari. Pai A &  0.3074 &  0.1328 & -0.0025 & -0.1523 & -0.2855 \\\\\n",
      "Escolari. Pai B &  0.0060 & -0.0217 & -0.0351 & -0.0169 &  0.0677 \\\\\n",
      "Escolari. Pai C & -0.2187 & -0.1563 & -0.0834 &  0.0694 &  0.3891 \\\\\n",
      "Escolari. Mae A &  0.2475 &  0.1555 &  0.0488 & -0.0921 & -0.3597 \\\\\n",
      "Escolari. Mae B & -0.1382 & -0.0148 &  0.0654 &  0.1146 & -0.0271 \\\\\n",
      "Escolari. Mae C & -0.2626 & -0.1195 &  0.0011 &  0.1460 &  0.2349 \\\\\n",
      "Ocupação Pai A  & -0.0569 & -0.0225 &  0.0089 &  0.0284 &  0.0421 \\\\\n",
      "Ocupação Pai B  & -0.4185 & -0.2108 & -0.0360 &  0.1562 &  0.5091 \\\\\n",
      "Ocupação Mae A  & -0.0440 &  0.0076 &  0.0286 &  0.0257 & -0.0179 \\\\\n",
      "Ocupação Mae B  & -0.2302 & -0.1056 & -0.0040 &  0.0918 &  0.2479 \\\\\n",
      "N pessoas       &  2.1839 &  1.1926 &  0.2040 & -1.0068 & -2.5738 \\\\\n",
      "Renda A         &  0.8795 &  0.4991 &  0.0923 & -0.3577 & -1.1131 \\\\\n",
      "Renda B         &  0.3036 &  0.2566 &  0.1229 & -0.0962 & -0.5868 \\\\\n",
      "Renda C         & -0.2219 & -0.0355 &  0.0513 &  0.1272 &  0.0789 \\\\\n",
      "Renda D         & -0.5388 & -0.2813 & -0.0229 &  0.2472 &  0.5959 \\\\\n",
      "Renda E         & -0.5755 & -0.4177 & -0.1282 &  0.2481 &  0.8733 \\\\\n",
      "Tem computador  &  0.3435 &  0.1390 & -0.0386 & -0.1798 & -0.2641 \\\\\n",
      "\\bottomrule\n",
      "\\end{tabular}\n",
      "\\end{table}\n",
      "\n"
     ]
    },
    {
     "name": "stderr",
     "output_type": "stream",
     "text": [
      "C:\\Users\\usuario\\AppData\\Local\\Temp\\ipykernel_8920\\2367409031.py:11: FutureWarning: In future versions `DataFrame.to_latex` is expected to utilise the base implementation of `Styler.to_latex` for formatting and rendering. The arguments signature may therefore change. It is recommended instead to use `DataFrame.style.to_latex` which also contains additional functionality.\n",
      "  print(coeficientes.T.to_latex(float_format = \"%.4f\", label ='tab: qut_GE', caption = 'Coeficientes da regressão ajustada com dados de 2020 para o desempenho geral dividido por quantis.'))\n"
     ]
    }
   ],
   "source": [
    "features = ['IDADE', 'MASCULINO', 'SOLTEIRO', 'BRANCA', 'PRETA', 'EM CONCLUIDO',\n",
    "       'EM NO ANO ', 'EM APOS',\n",
    "       'Escola Pública', 'Treineiro', 'Escolari. Pai A',\n",
    "       'Escolari. Pai B', 'Escolari. Pai C', 'Escolari. Mae A',\n",
    "       'Escolari. Mae B', 'Escolari. Mae C', 'Ocupação Pai A',\n",
    "       'Ocupação Pai B', 'Ocupação Mae A', 'Ocupação Mae B',\n",
    "       'N pessoas', 'Renda A', 'Renda B', 'Renda C', 'Renda D',\n",
    "       'Renda E', 'Tem computador']\n",
    "\n",
    "coeficientes = pd.DataFrame(Reg2020[regid['qut_GE']].coef_, columns = features)\n",
    "print(coeficientes.T.to_latex(float_format = \"%.4f\", label ='tab: qut_GE', caption = 'Coeficientes da regressão ajustada com dados de 2020 para o desempenho geral dividido por quantis.'))\n"
   ]
  },
  {
   "cell_type": "code",
   "execution_count": 8,
   "id": "a0e2e8c0",
   "metadata": {},
   "outputs": [
    {
     "name": "stdout",
     "output_type": "stream",
     "text": [
      "\\begin{table}\n",
      "\\centering\n",
      "\\caption{Coeficientes da regressão ajustada com dados de 2021 para o desempenho geral dividido por quantis.}\n",
      "\\label{tab: qut_GE}\n",
      "\\begin{tabular}{lrrrrr}\n",
      "\\toprule\n",
      "{} &       0 &       1 &       2 &       3 &       4 \\\\\n",
      "\\midrule\n",
      "IDADE           &  1.1913 &  0.2199 & -0.2264 & -0.5212 & -0.6636 \\\\\n",
      "MASCULINO       &  0.1189 &  0.1166 &  0.0191 & -0.1175 & -0.1372 \\\\\n",
      "SOLTEIRO        & -0.1089 & -0.1520 & -0.1000 &  0.0208 &  0.3402 \\\\\n",
      "BRANCA          & -0.3506 & -0.0664 &  0.0964 &  0.1920 &  0.1286 \\\\\n",
      "PRETA           &  0.0172 &  0.1134 &  0.1116 &  0.0331 & -0.2754 \\\\\n",
      "EM CONCLUIDO    & -1.3816 & -0.6705 & -0.2621 &  0.3722 &  1.9420 \\\\\n",
      "EM NO ANO       & -0.3324 & -0.1415 & -0.0531 &  0.1124 &  0.4146 \\\\\n",
      "EM APOS         & -0.2672 & -0.1283 & -0.0523 &  0.0957 &  0.3521 \\\\\n",
      "Escola Pública  &  0.3931 &  0.2797 &  0.1974 & -0.0530 & -0.8172 \\\\\n",
      "Treineiro       & -0.2672 & -0.1283 & -0.0523 &  0.0957 &  0.3521 \\\\\n",
      "Escolari. Pai A &  0.2788 &  0.1034 &  0.0016 & -0.1225 & -0.2613 \\\\\n",
      "Escolari. Pai B & -0.0233 & -0.0498 & -0.0241 &  0.0090 &  0.0881 \\\\\n",
      "Escolari. Pai C & -0.2480 & -0.1717 & -0.0596 &  0.0982 &  0.3811 \\\\\n",
      "Escolari. Mae A &  0.3432 &  0.1980 &  0.0625 & -0.1270 & -0.4768 \\\\\n",
      "Escolari. Mae B & -0.0702 &  0.0239 &  0.0754 &  0.0710 & -0.1001 \\\\\n",
      "Escolari. Mae C & -0.2064 & -0.0788 &  0.0103 &  0.1178 &  0.1572 \\\\\n",
      "Ocupação Pai A  & -0.0564 & -0.0065 &  0.0069 &  0.0188 &  0.0372 \\\\\n",
      "Ocupação Pai B  & -0.3948 & -0.1734 & -0.0233 &  0.1400 &  0.4516 \\\\\n",
      "Ocupação Mae A  & -0.0769 & -0.0004 &  0.0165 &  0.0330 &  0.0280 \\\\\n",
      "Ocupação Mae B  & -0.2375 & -0.0856 & -0.0042 &  0.0780 &  0.2493 \\\\\n",
      "N pessoas       &  2.2264 &  1.0291 &  0.0158 & -1.0149 & -2.2563 \\\\\n",
      "Renda A         &  0.9239 &  0.4669 &  0.0808 & -0.3687 & -1.1029 \\\\\n",
      "Renda B         &  0.3560 &  0.2527 &  0.1182 & -0.1170 & -0.6099 \\\\\n",
      "Renda C         & -0.1316 & -0.0220 &  0.0546 &  0.0933 &  0.0056 \\\\\n",
      "Renda D         & -0.4573 & -0.2085 & -0.0183 &  0.2114 &  0.4727 \\\\\n",
      "Renda E         & -0.6245 & -0.3459 & -0.0871 &  0.2428 &  0.8147 \\\\\n",
      "Tem computador  &  0.3434 &  0.1095 & -0.0624 & -0.1769 & -0.2136 \\\\\n",
      "\\bottomrule\n",
      "\\end{tabular}\n",
      "\\end{table}\n",
      "\n"
     ]
    },
    {
     "name": "stderr",
     "output_type": "stream",
     "text": [
      "C:\\Users\\usuario\\AppData\\Local\\Temp\\ipykernel_8920\\1105754526.py:2: FutureWarning: In future versions `DataFrame.to_latex` is expected to utilise the base implementation of `Styler.to_latex` for formatting and rendering. The arguments signature may therefore change. It is recommended instead to use `DataFrame.style.to_latex` which also contains additional functionality.\n",
      "  print(coeficientes.T.to_latex(float_format = \"%.4f\", label ='tab: qut_GE', caption = 'Coeficientes da regressão ajustada com dados de 2021 para o desempenho geral dividido por quantis.'))\n"
     ]
    }
   ],
   "source": [
    "coeficientes = pd.DataFrame(Reg2021[regid['qut_GE']].coef_, columns = features)\n",
    "print(coeficientes.T.to_latex(float_format = \"%.4f\", label ='tab: qut_GE', caption = 'Coeficientes da regressão ajustada com dados de 2021 para o desempenho geral dividido por quantis.'))\n"
   ]
  },
  {
   "cell_type": "code",
   "execution_count": null,
   "id": "d2519710",
   "metadata": {},
   "outputs": [],
   "source": []
  },
  {
   "cell_type": "code",
   "execution_count": 9,
   "id": "522ab63c",
   "metadata": {},
   "outputs": [
    {
     "name": "stdout",
     "output_type": "stream",
     "text": [
      "\\begin{table}\n",
      "\\centering\n",
      "\\caption{Coeficientes da regressão ajustada com dados de 2022 para o desempenho geral dividido por quantis.}\n",
      "\\label{tab: qut_GE}\n",
      "\\begin{tabular}{lrrrrr}\n",
      "\\toprule\n",
      "{} &       0 &       1 &       2 &       3 &       4 \\\\\n",
      "\\midrule\n",
      "IDADE           &  1.2931 &  0.3354 & -0.2290 & -0.6010 & -0.7985 \\\\\n",
      "MASCULINO       &  0.0565 &  0.0733 & -0.0058 & -0.0569 & -0.0671 \\\\\n",
      "SOLTEIRO        & -0.1340 & -0.1572 & -0.0965 &  0.0274 &  0.3603 \\\\\n",
      "BRANCA          & -0.4113 & -0.1099 &  0.1049 &  0.2276 &  0.1887 \\\\\n",
      "PRETA           & -0.0249 &  0.0679 &  0.1123 &  0.0687 & -0.2241 \\\\\n",
      "EM CONCLUIDO    & -1.1840 & -0.6259 & -0.3262 &  0.2869 &  1.8492 \\\\\n",
      "EM NO ANO       & -0.2994 & -0.1193 & -0.0566 &  0.1034 &  0.3719 \\\\\n",
      "EM APOS         & -0.2397 & -0.1279 & -0.0789 &  0.0927 &  0.3538 \\\\\n",
      "Escola Pública  &  0.3355 &  0.3029 &  0.2370 & -0.0584 & -0.8170 \\\\\n",
      "Treineiro       & -0.2397 & -0.1279 & -0.0789 &  0.0927 &  0.3538 \\\\\n",
      "Escolari. Pai A &  0.2606 &  0.0873 & -0.0345 & -0.1096 & -0.2039 \\\\\n",
      "Escolari. Pai B & -0.0529 & -0.0573 & -0.0471 &  0.0177 &  0.1396 \\\\\n",
      "Escolari. Pai C & -0.2776 & -0.1890 & -0.0825 &  0.0962 &  0.4529 \\\\\n",
      "Escolari. Mae A &  0.3331 &  0.2133 &  0.0566 & -0.1358 & -0.4672 \\\\\n",
      "Escolari. Mae B & -0.0736 &  0.0501 &  0.0952 &  0.0629 & -0.1346 \\\\\n",
      "Escolari. Mae C & -0.2233 & -0.0797 &  0.0285 &  0.1179 &  0.1566 \\\\\n",
      "Ocupação Pai A  & -0.0762 & -0.0425 &  0.0171 &  0.0405 &  0.0610 \\\\\n",
      "Ocupação Pai B  & -0.4179 & -0.2220 & -0.0219 &  0.1771 &  0.4847 \\\\\n",
      "Ocupação Mae A  & -0.0854 & -0.0269 &  0.0111 &  0.0408 &  0.0605 \\\\\n",
      "Ocupação Mae B  & -0.2534 & -0.1160 & -0.0124 &  0.0935 &  0.2884 \\\\\n",
      "N pessoas       &  2.2519 &  1.0244 & -0.0077 & -0.9943 & -2.2743 \\\\\n",
      "Renda A         &  0.9041 &  0.4807 &  0.0905 & -0.3663 & -1.1091 \\\\\n",
      "Renda B         &  0.3171 &  0.2642 &  0.1285 & -0.1073 & -0.6024 \\\\\n",
      "Renda C         & -0.1668 & -0.0124 &  0.0667 &  0.0966 &  0.0159 \\\\\n",
      "Renda D         & -0.4546 & -0.2105 & -0.0080 &  0.2050 &  0.4682 \\\\\n",
      "Renda E         & -0.5636 & -0.3383 & -0.0973 &  0.2171 &  0.7822 \\\\\n",
      "Tem computador  &  0.3957 &  0.1305 & -0.0531 & -0.1993 & -0.2738 \\\\\n",
      "\\bottomrule\n",
      "\\end{tabular}\n",
      "\\end{table}\n",
      "\n"
     ]
    },
    {
     "name": "stderr",
     "output_type": "stream",
     "text": [
      "C:\\Users\\usuario\\AppData\\Local\\Temp\\ipykernel_8920\\2642044298.py:2: FutureWarning: In future versions `DataFrame.to_latex` is expected to utilise the base implementation of `Styler.to_latex` for formatting and rendering. The arguments signature may therefore change. It is recommended instead to use `DataFrame.style.to_latex` which also contains additional functionality.\n",
      "  print(coeficientes.T.to_latex(float_format = \"%.4f\", label ='tab: qut_GE', caption = 'Coeficientes da regressão ajustada com dados de 2022 para o desempenho geral dividido por quantis.'))\n"
     ]
    }
   ],
   "source": [
    "coeficientes = pd.DataFrame(Reg2022[regid['qut_GE']].coef_, columns = features)\n",
    "print(coeficientes.T.to_latex(float_format = \"%.4f\", label ='tab: qut_GE', caption = 'Coeficientes da regressão ajustada com dados de 2022 para o desempenho geral dividido por quantis.'))\n"
   ]
  },
  {
   "cell_type": "code",
   "execution_count": null,
   "id": "57df1f19",
   "metadata": {},
   "outputs": [],
   "source": []
  },
  {
   "cell_type": "code",
   "execution_count": 20,
   "id": "0a8f3a44",
   "metadata": {},
   "outputs": [
    {
     "data": {
      "text/plain": [
       "EM CONCLUIDO      -1.284002\n",
       "Renda E           -0.575519\n",
       "Renda D           -0.538845\n",
       "EM NO ANO         -0.443981\n",
       "Ocupação Pai B    -0.418465\n",
       "BRANCA            -0.278525\n",
       "Escolari. Mae C   -0.262577\n",
       "Treineiro         -0.256504\n",
       "EM APOS           -0.256504\n",
       "Ocupação Mae B    -0.230153\n",
       "Renda C           -0.221921\n",
       "Escolari. Pai C   -0.218744\n",
       "Escolari. Mae B   -0.138166\n",
       "Ocupação Pai A    -0.056923\n",
       "Ocupação Mae A    -0.044035\n",
       "SOLTEIRO          -0.037425\n",
       "Escolari. Pai B    0.006042\n",
       "PRETA              0.071886\n",
       "MASCULINO          0.162295\n",
       "Escolari. Mae A    0.247523\n",
       "Escola Pública     0.290761\n",
       "Renda B            0.303574\n",
       "Escolari. Pai A    0.307427\n",
       "Tem computador     0.343461\n",
       "Renda A            0.879491\n",
       "IDADE              1.632104\n",
       "N pessoas          2.183944\n",
       "Name: 0, dtype: float64"
      ]
     },
     "execution_count": 20,
     "metadata": {},
     "output_type": "execute_result"
    }
   ],
   "source": [
    "pd.DataFrame(Reg2020[regid['qut_GE']].coef_, columns = features).iloc[0].sort_values()\n"
   ]
  },
  {
   "cell_type": "code",
   "execution_count": 18,
   "id": "f7a6a429",
   "metadata": {},
   "outputs": [
    {
     "data": {
      "text/plain": [
       "N pessoas         -2.256295\n",
       "Renda A           -1.102892\n",
       "Escola Pública    -0.817218\n",
       "IDADE             -0.663593\n",
       "Renda B           -0.609861\n",
       "Escolari. Mae A   -0.476777\n",
       "PRETA             -0.275358\n",
       "Escolari. Pai A   -0.261292\n",
       "Tem computador    -0.213643\n",
       "MASCULINO         -0.137164\n",
       "Escolari. Mae B   -0.100116\n",
       "Renda C            0.005638\n",
       "Ocupação Mae A     0.027971\n",
       "Ocupação Pai A     0.037235\n",
       "Escolari. Pai B    0.088081\n",
       "BRANCA             0.128645\n",
       "Escolari. Mae C    0.157181\n",
       "Ocupação Mae B     0.249345\n",
       "SOLTEIRO           0.340189\n",
       "Treineiro          0.352096\n",
       "EM APOS            0.352096\n",
       "Escolari. Pai C    0.381120\n",
       "EM NO ANO          0.414615\n",
       "Ocupação Pai B     0.451562\n",
       "Renda D            0.472703\n",
       "Renda E            0.814701\n",
       "EM CONCLUIDO       1.942005\n",
       "Name: 4, dtype: float64"
      ]
     },
     "execution_count": 18,
     "metadata": {},
     "output_type": "execute_result"
    }
   ],
   "source": [
    "pd.DataFrame(Reg2021[regid['qut_GE']].coef_, columns = features).iloc[4].sort_values()\n"
   ]
  },
  {
   "cell_type": "code",
   "execution_count": 19,
   "id": "957b3ebc",
   "metadata": {},
   "outputs": [
    {
     "data": {
      "text/plain": [
       "N pessoas         -2.274270\n",
       "Renda A           -1.109090\n",
       "Escola Pública    -0.817020\n",
       "IDADE             -0.798478\n",
       "Renda B           -0.602441\n",
       "Escolari. Mae A   -0.467229\n",
       "Tem computador    -0.273806\n",
       "PRETA             -0.224099\n",
       "Escolari. Pai A   -0.203879\n",
       "Escolari. Mae B   -0.134556\n",
       "MASCULINO         -0.067135\n",
       "Renda C            0.015914\n",
       "Ocupação Mae A     0.060464\n",
       "Ocupação Pai A     0.061043\n",
       "Escolari. Pai B    0.139580\n",
       "Escolari. Mae C    0.156631\n",
       "BRANCA             0.188691\n",
       "Ocupação Mae B     0.288354\n",
       "Treineiro          0.353825\n",
       "EM APOS            0.353825\n",
       "SOLTEIRO           0.360305\n",
       "EM NO ANO          0.371866\n",
       "Escolari. Pai C    0.452893\n",
       "Renda D            0.468229\n",
       "Ocupação Pai B     0.484662\n",
       "Renda E            0.782235\n",
       "EM CONCLUIDO       1.849180\n",
       "Name: 4, dtype: float64"
      ]
     },
     "execution_count": 19,
     "metadata": {},
     "output_type": "execute_result"
    }
   ],
   "source": [
    "pd.DataFrame(Reg2022[regid['qut_GE']].coef_, columns = features).iloc[4].sort_values()"
   ]
  },
  {
   "cell_type": "code",
   "execution_count": null,
   "id": "d9706a32",
   "metadata": {},
   "outputs": [],
   "source": []
  },
  {
   "cell_type": "code",
   "execution_count": null,
   "id": "a64b7a06",
   "metadata": {},
   "outputs": [],
   "source": []
  },
  {
   "cell_type": "code",
   "execution_count": null,
   "id": "4704d7f5",
   "metadata": {},
   "outputs": [],
   "source": []
  }
 ],
 "metadata": {
  "kernelspec": {
   "display_name": "Python 3 (ipykernel)",
   "language": "python",
   "name": "python3"
  },
  "language_info": {
   "codemirror_mode": {
    "name": "ipython",
    "version": 3
   },
   "file_extension": ".py",
   "mimetype": "text/x-python",
   "name": "python",
   "nbconvert_exporter": "python",
   "pygments_lexer": "ipython3",
   "version": "3.10.9"
  }
 },
 "nbformat": 4,
 "nbformat_minor": 5
}
