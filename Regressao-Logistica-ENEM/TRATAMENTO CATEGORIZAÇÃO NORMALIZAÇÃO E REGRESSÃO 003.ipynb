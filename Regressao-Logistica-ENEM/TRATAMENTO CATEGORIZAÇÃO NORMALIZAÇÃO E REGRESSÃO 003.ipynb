{
 "cells": [
  {
   "cell_type": "code",
   "execution_count": 1,
   "id": "76305ad3",
   "metadata": {},
   "outputs": [],
   "source": [
    "import pandas as pd \n",
    "import numpy as np\n",
    "from sklearn.linear_model import LogisticRegression\n",
    "from sklearn.model_selection import train_test_split\n",
    "\n",
    "\n",
    "Arquivo = \"MICRODADOS_ENEM_2020_1-300.csv\"\n",
    "DF= pd.read_csv(Arquivo, engine=\"python\", encoding='ISO-8859-1')\n",
    "DF2 = pd.DataFrame([])\n",
    "def minmax(df):\n",
    "    mi = df.min()\n",
    "    ma = df.max()\n",
    "    sai = df.apply(lambda x: (x-mi)/(ma-mi))\n",
    "    return sai"
   ]
  },
  {
   "cell_type": "code",
   "execution_count": null,
   "id": "2ed6d67f",
   "metadata": {},
   "outputs": [],
   "source": [
    "\n"
   ]
  },
  {
   "cell_type": "code",
   "execution_count": null,
   "id": "6bc4bf3a",
   "metadata": {},
   "outputs": [],
   "source": []
  },
  {
   "cell_type": "code",
   "execution_count": 2,
   "id": "dd520e3e",
   "metadata": {},
   "outputs": [
    {
     "name": "stdout",
     "output_type": "stream",
     "text": [
      "CPU times: total: 0 ns\n",
      "Wall time: 13.6 ms\n"
     ]
    }
   ],
   "source": [
    "%%time\n",
    "DF2[\"IDADE\"] = minmax(DF[\"TP_FAIXA_ETARIA\"])"
   ]
  },
  {
   "cell_type": "markdown",
   "id": "459999dd",
   "metadata": {},
   "source": [
    "# Sexo\n",
    "\n",
    "M\tMasculino\n",
    "F\tFeminino \n",
    "\n",
    "Categorizado como:\n",
    "masculino = 1\n",
    "Feminino = 0\n",
    "\n",
    "MASCULINO"
   ]
  },
  {
   "cell_type": "code",
   "execution_count": 3,
   "id": "f8750604",
   "metadata": {},
   "outputs": [
    {
     "name": "stdout",
     "output_type": "stream",
     "text": [
      "CPU times: total: 0 ns\n",
      "Wall time: 7.42 ms\n"
     ]
    }
   ],
   "source": [
    "%%time\n",
    "DF2['MASCULINO'] = DF['TP_SEXO'].apply(lambda x: 0 if x=='M' else 1)\n"
   ]
  },
  {
   "cell_type": "markdown",
   "id": "3e989fed",
   "metadata": {},
   "source": [
    "# Estado civil\n",
    "\n",
    "0\tNão informado\n",
    "\n",
    "1\tSolteiro(a)\n",
    "\n",
    "2\tCasado(a)/Mora com companheiro(a)\n",
    "\n",
    "3\tDivorciado(a)/Desquitado(a)/Separado(a)\n",
    "\n",
    "4\tViúvo(a)\n",
    "\n",
    "Criado 3 novas categorias:\n",
    "SOLTEIRO: 1\n"
   ]
  },
  {
   "cell_type": "code",
   "execution_count": 4,
   "id": "18f083a5",
   "metadata": {},
   "outputs": [],
   "source": [
    "DF2[\"SOLTEIRO\"] = DF[\"TP_ESTADO_CIVIL\"].apply(lambda x: 1 if x==1 else 0)\n"
   ]
  },
  {
   "cell_type": "markdown",
   "id": "911688d4",
   "metadata": {},
   "source": [
    "# Cor Raça\n",
    "\n",
    "0\tNão declarado\n",
    "\n",
    "1\tBranca\n",
    "\n",
    "2\tPreta\n",
    "\n",
    "3\tParda\n",
    "\n",
    "4\tAmarela\n",
    "\n",
    "5\tIndígena \n",
    "\n",
    "\n",
    "Criado 5 novas categorias\n",
    "\n",
    "BRANCA: 1\n",
    "\n",
    "PRETA: 2\n",
    "\n",
    "\n"
   ]
  },
  {
   "cell_type": "code",
   "execution_count": 5,
   "id": "d04288a0",
   "metadata": {},
   "outputs": [],
   "source": [
    "DF2[\"BRANCA\"] = DF[\"TP_COR_RACA\"].apply(lambda x: 1 if x==1 else 0)\n",
    "DF2[\"PRETA\"] = DF[\"TP_COR_RACA\"].apply(lambda x: 1 if (x==2 or x==3) else 0)\n"
   ]
  },
  {
   "cell_type": "markdown",
   "id": "c877585a",
   "metadata": {},
   "source": [
    "# Situação de Conclusão\n",
    "\n",
    "TP_ST_CONCLUSAO\n",
    "\n",
    "1\tJá concluí o Ensino Médio\n",
    "\n",
    "2\tEstou cursando e concluirei o Ensino Médio em 2022\n",
    "\n",
    "3\tEstou cursando e concluirei o Ensino Médio após 2022\n",
    "\n",
    "4\tNão concluí e não estou cursando o Ensino Médio\n",
    "\n",
    "Resumido a uma categoria:\n",
    "\n",
    "EM CONCLUIDO:1\n",
    "\n",
    "EM NO ANO DA AVALIACAO: 2\n",
    "\n",
    "EM APOS O ANO DA AVALIACAO: 3\n"
   ]
  },
  {
   "cell_type": "code",
   "execution_count": 6,
   "id": "b54d677e",
   "metadata": {},
   "outputs": [
    {
     "data": {
      "text/plain": [
       "count    19286.000000\n",
       "mean         1.460023\n",
       "std          0.607988\n",
       "min          1.000000\n",
       "25%          1.000000\n",
       "50%          1.000000\n",
       "75%          2.000000\n",
       "max          4.000000\n",
       "Name: TP_ST_CONCLUSAO, dtype: float64"
      ]
     },
     "execution_count": 6,
     "metadata": {},
     "output_type": "execute_result"
    }
   ],
   "source": [
    "DF[\"TP_ST_CONCLUSAO\"].describe()"
   ]
  },
  {
   "cell_type": "code",
   "execution_count": 7,
   "id": "14b13b92",
   "metadata": {},
   "outputs": [],
   "source": [
    "DF2[\"EM CONCLUIDO\"] = DF[\"TP_ST_CONCLUSAO\"].apply(lambda x: 1 if x==1 else 0)\n",
    "DF2[\"EM NO ANO DA AVALIACAO\"] = DF[\"TP_ST_CONCLUSAO\"].apply(lambda x: 1 if x==2 else 0)\n",
    "DF2[\"EM APOS O ANO DA AVALIACAO\"] = DF[\"TP_ST_CONCLUSAO\"].apply(lambda x: 1 if x==3 else 0)"
   ]
  },
  {
   "cell_type": "code",
   "execution_count": null,
   "id": "5087ce31",
   "metadata": {},
   "outputs": [],
   "source": []
  },
  {
   "cell_type": "markdown",
   "id": "7b0e8942",
   "metadata": {},
   "source": [
    "# Tipo da escola\n",
    "\n",
    "TP_ESCOLA\n",
    "\n",
    "1\tNão Respondeu\n",
    "\n",
    "2\tPública\n",
    "\n",
    "3\tPrivada\n",
    "\n",
    "Uma categoria:\n",
    "PUBLICA: 1\n"
   ]
  },
  {
   "cell_type": "code",
   "execution_count": 8,
   "id": "529b40a3",
   "metadata": {},
   "outputs": [
    {
     "data": {
      "text/plain": [
       "1    0.652650\n",
       "2    0.336876\n",
       "3    0.010474\n",
       "Name: TP_ESCOLA, dtype: float64"
      ]
     },
     "execution_count": 8,
     "metadata": {},
     "output_type": "execute_result"
    }
   ],
   "source": [
    "m = DF[\"TP_ESCOLA\"].size\n",
    "DF[\"TP_ESCOLA\"].value_counts()/m\n"
   ]
  },
  {
   "cell_type": "code",
   "execution_count": 9,
   "id": "9d3a2816",
   "metadata": {},
   "outputs": [],
   "source": [
    "DF2[\"Escola Pública\"] = DF[\"TP_ESCOLA\"].apply(lambda x: 1 if x==1 else 0)"
   ]
  },
  {
   "cell_type": "markdown",
   "id": "5a81ca62",
   "metadata": {},
   "source": [
    "# treineiro"
   ]
  },
  {
   "cell_type": "code",
   "execution_count": 10,
   "id": "bbac0426",
   "metadata": {},
   "outputs": [],
   "source": [
    "DF2[\"Treineiro\"] = DF[\"IN_TREINEIRO\"].apply(lambda x: 1 if x==1 else 0)"
   ]
  },
  {
   "cell_type": "markdown",
   "id": "beaabde9",
   "metadata": {},
   "source": [
    "# Q001\n",
    "## Até que série seu pai, ou o homem responsável por você, estudou?\n",
    "\n",
    "# Escolaridade do Pai\n",
    "\n",
    "A\tNunca estudou.\n",
    "\n",
    "B\tNão completou a 4ª série/5º ano do Ensino Fundamental.\n",
    "\n",
    "C\tCompletou a 4ª série/5º ano, mas não completou a 8ª série/9º ano do Ensino Fundamental.\n",
    "\n",
    "D\tCompletou a 8ª série/9º ano do Ensino Fundamental, mas não completou o Ensino Médio.\n",
    "\n",
    "E\tCompletou o Ensino Médio, mas não completou a Faculdade.\n",
    "\n",
    "F\tCompletou a Faculdade, mas não completou a Pós-graduação.\n",
    "\n",
    "G\tCompletou a Pós-graduação.\n",
    "\n",
    "H\tNão sei.\n",
    "\n",
    "# agrupamento\n",
    "\n",
    "Nunca estudou: A e H\n",
    "\n",
    "Completou no máximo o ensino médio:B, C, D e E\n",
    "\n",
    "Completou Faculdade ou pós graduação: F e G\n"
   ]
  },
  {
   "cell_type": "code",
   "execution_count": 11,
   "id": "a6bff579",
   "metadata": {},
   "outputs": [],
   "source": [
    "DF2[\"Escolaridade Pai A\"] = DF[\"Q001\"].apply(lambda x: 1 if (x==\"A\") else 0)\n",
    "DF2[\"Escolaridade Pai B\"] = DF[\"Q001\"].apply(lambda x: 1 if (x==\"B\" or x==\"C\" or x==\"D\"or x==\"E\") else 0)\n",
    "DF2[\"Escolaridade Pai C\"] = DF[\"Q001\"].apply(lambda x: 1 if (x==\"F\" or x==\"G\") else 0)\n"
   ]
  },
  {
   "cell_type": "markdown",
   "id": "c6e218a4",
   "metadata": {},
   "source": [
    "# Q002\n",
    "## Até que série sua mãe, ou a mulher responsável por você, estudou?\n",
    "\n",
    "Análogo ao Q001"
   ]
  },
  {
   "cell_type": "code",
   "execution_count": 12,
   "id": "c7390e61",
   "metadata": {},
   "outputs": [],
   "source": [
    "DF2[\"Escolaridade Mae A\"] = DF[\"Q002\"].apply(lambda x: 1 if (x==\"A\" or x==\"H\") else 0)\n",
    "DF2[\"Escolaridade Mae B\"] = DF[\"Q002\"].apply(lambda x: 1 if (x==\"B\" or x==\"C\" or x==\"D\"or x==\"E\") else 0)\n",
    "DF2[\"Escolaridade Mae C\"] = DF[\"Q002\"].apply(lambda x: 1 if (x==\"F\" or x==\"G\") else 0)\n"
   ]
  },
  {
   "cell_type": "markdown",
   "id": "5532ef62",
   "metadata": {},
   "source": [
    "# Q003\n",
    "\n",
    "## A partir da apresentação de algumas ocupações divididas em grupos ordenados, indique o grupo que contempla a ocupação mais próxima da ocupação do seu pai ou do homem responsável por você. (Se ele não estiver trabalhando, escolha uma ocupação pensando no último trabalho dele).\n",
    "\n",
    "A\tGrupo 1: Lavrador, agricultor sem empregados, bóia fria, criador de animais (gado, porcos, galinhas, ovelhas, cavalos etc.), apicultor, pescador, lenhador, seringueiro, extrativista.\n",
    "\n",
    "B\tGrupo 2: Diarista, empregado doméstico, cuidador de idosos, babá, cozinheiro (em casas particulares), motorista particular, jardineiro, faxineiro de empresas e prédios, vigilante, porteiro, carteiro, office-boy, vendedor, caixa, atendente de loja, auxiliar administrativo, recepcionista, servente de pedreiro, repositor de mercadoria.\n",
    "\n",
    "C\tGrupo 3: Padeiro, cozinheiro industrial ou em restaurantes, sapateiro, costureiro, joalheiro, torneiro mecânico, operador de máquinas, soldador, operário de fábrica, trabalhador da mineração, pedreiro, pintor, eletricista, encanador, motorista, caminhoneiro, taxista.\n",
    "\n",
    "D\tGrupo 4: Professor (de ensino fundamental ou médio, idioma, música, artes etc.), técnico (de enfermagem, contabilidade, eletrônica etc.), policial, militar de baixa patente (soldado, cabo, sargento), corretor de imóveis, supervisor, gerente, mestre de obras, pastor, microempresário (proprietário de empresa com menos de 10 empregados), pequeno comerciante, pequeno proprietário de terras, trabalhador autônomo ou por conta própria.\n",
    "\n",
    "E\tGrupo 5: Médico, engenheiro, dentista, psicólogo, economista, advogado, juiz, promotor, defensor, delegado, tenente, capitão, coronel, professor universitário, diretor em empresas públicas ou privadas, político, proprietário de empresas com mais de 10 empregados.\n",
    "\n",
    "F\tNão sei.\n",
    "\n",
    "\n",
    "## Agrupamento\n",
    "\n",
    "A - Ocupação com menor requisito de formação: A, B e C\n",
    "B - Ocupação com maior requisito de formação: D e E"
   ]
  },
  {
   "cell_type": "code",
   "execution_count": 13,
   "id": "0ee29777",
   "metadata": {},
   "outputs": [],
   "source": [
    "DF2[\"Ocupação Pai A\"] = DF[\"Q003\"].apply(lambda x: 1 if (x==\"A\" or x==\"B\" or x==\"C\") else 0)\n",
    "DF2[\"Ocupação Pai B\"] = DF[\"Q003\"].apply(lambda x: 1 if (x==\"D\" or x==\"E\") else 0)\n"
   ]
  },
  {
   "cell_type": "markdown",
   "id": "b779ce95",
   "metadata": {},
   "source": [
    "# Q004\n",
    "\n",
    "Análogo à Q003"
   ]
  },
  {
   "cell_type": "code",
   "execution_count": 14,
   "id": "f924c86d",
   "metadata": {},
   "outputs": [],
   "source": [
    "DF2[\"Ocupação Mae A\"] = DF[\"Q004\"].apply(lambda x: 1 if (x==\"A\" or x==\"B\" or x==\"C\") else 0)\n",
    "DF2[\"Ocupação Mae B\"] = DF[\"Q004\"].apply(lambda x: 1 if (x==\"D\" or x==\"E\") else 0)\n"
   ]
  },
  {
   "cell_type": "markdown",
   "id": "625b6e84",
   "metadata": {},
   "source": [
    "# Q005\n",
    "\n",
    "## Incluindo você, quantas pessoas moram atualmente em sua residência?\n",
    "\n",
    "Quantitativa ordinal de 1 a 20 normalizada entre 0 e 1 por min max.\n",
    "\n",
    "\n",
    "\n"
   ]
  },
  {
   "cell_type": "code",
   "execution_count": 15,
   "id": "76280f09",
   "metadata": {},
   "outputs": [],
   "source": [
    "DF2[\"pessoas na residencia\"] = minmax(DF[\"Q005\"])"
   ]
  },
  {
   "cell_type": "markdown",
   "id": "76a590fb",
   "metadata": {},
   "source": [
    "# 006\n",
    "\n",
    "### Agrupamento\n",
    "\n",
    "\n",
    "Renda\n",
    "A - Até 1 salário mínimo\n",
    "B - de 1 a 2,5 salários mínimos\n",
    "C - de 2,5 até 7 salários mínimo\n",
    "D - de 7 a 12 salários mínimos\n",
    "E - acima de 12 salários mínimos"
   ]
  },
  {
   "cell_type": "code",
   "execution_count": 16,
   "id": "e567dce6",
   "metadata": {},
   "outputs": [],
   "source": [
    "DF2[\"Renda A\"] = DF[\"Q006\"].apply(lambda x: 1 if (x==\"A\" or x==\"B\") else 0)\n",
    "DF2[\"Renda B\"] = DF[\"Q006\"].apply(lambda x: 1 if (x==\"C\" or x==\"D\" or x==\"E\") else 0)\n",
    "DF2[\"Renda C\"] = DF[\"Q006\"].apply(lambda x: 1 if (x==\"F\" or x==\"G\" or x==\"H\" or x==\"I\" or x==\"J\") else 0)\n",
    "DF2[\"Renda D\"] = DF[\"Q006\"].apply(lambda x: 1 if (x==\"K\" or x==\"L\" or x==\"M\" or x==\"N\") else 0)\n",
    "DF2[\"Renda E\"] = DF[\"Q006\"].apply(lambda x: 1 if (x==\"O\" or x==\"P\" or x==\"Q\") else 0)"
   ]
  },
  {
   "cell_type": "markdown",
   "id": "65666f56",
   "metadata": {},
   "source": [
    "# Q0024\n",
    "Residencia tem computador\n",
    "\n",
    "\n"
   ]
  },
  {
   "cell_type": "code",
   "execution_count": 17,
   "id": "6788618a",
   "metadata": {},
   "outputs": [],
   "source": [
    "DF2[\"Tem computador em casa\"] = DF[\"Q006\"].apply(lambda x: 1 if (x==\"A\") else 0)"
   ]
  },
  {
   "cell_type": "markdown",
   "id": "da5f99f1",
   "metadata": {},
   "source": [
    "# Desempenho\n"
   ]
  },
  {
   "cell_type": "code",
   "execution_count": 18,
   "id": "7f8c993a",
   "metadata": {},
   "outputs": [],
   "source": [
    "# Cria dicionário para referência de variáveis endógenas\n",
    "\n",
    "regid     = {'cut_MT':  0,\n",
    "            'cut_LC':  1,\n",
    "            'cut_CH':  2,\n",
    "            'cut_CN':  3,\n",
    "            'cut_RE':  4,\n",
    "            'cut_OB':  5,\n",
    "            'cut_GE':  6,\n",
    "            'qut_MT':  7,\n",
    "            'qut_LC':  8,\n",
    "            'qut_CH':  9,\n",
    "            'qut_CN':  10,\n",
    "            'qut_RE':  11,\n",
    "            'qut_OB':  12,\n",
    "            'qut_GE':  13}\n",
    "\n",
    "endogenas = ['cut_MT', 'cut_LC','cut_CH','cut_CN','cut_RE','cut_OB','cut_GE',\n",
    "            'qut_MT', 'qut_LC','qut_CH','qut_CN','qut_RE','qut_OB','qut_GE'\n",
    "            ]"
   ]
  },
  {
   "cell_type": "code",
   "execution_count": 19,
   "id": "7c87fa1c",
   "metadata": {},
   "outputs": [],
   "source": [
    "\n",
    "DF2[\"cut_MT\"] = pd.cut( DF[\"NU_NOTA_MT\"], bins=[0, 200, 400,600, 800, 1000], labels= False)\n",
    "DF2[\"cut_LC\"] = pd.cut( DF[\"NU_NOTA_LC\"], bins=[0, 200, 400,600, 800, 1000], labels= False)\n",
    "DF2[\"cut_CH\"] = pd.cut( DF[\"NU_NOTA_CH\"], bins = [0, 200, 400,600, 800, 1000], labels= False)\n",
    "DF2[\"cut_CN\"] = pd.cut( DF[\"NU_NOTA_CN\"], bins = [0, 200, 400,600, 800, 1000], labels= False)\n",
    "DF2[\"cut_RE\"] = pd.cut( DF[\"NU_NOTA_REDACAO\"], bins = [0, 200, 400,600, 800, 1000], labels= False)\n",
    "DF2[\"cut_OB\"] = pd.cut( (DF[\"NU_NOTA_CN\"]+DF[\"NU_NOTA_LC\"]+DF[\"NU_NOTA_CH\"]+DF[\"NU_NOTA_MT\"])/4, bins = [0, 200, 400,600, 800, 1000], labels= False)\n",
    "DF2[\"cut_GE\"] = pd.cut( (DF[\"NU_NOTA_CN\"]+DF[\"NU_NOTA_LC\"]+DF[\"NU_NOTA_CH\"]+DF[\"NU_NOTA_MT\"]+DF[\"NU_NOTA_REDACAO\"])/5, bins = [0, 200, 400,600, 800, 1000], labels= False)\n",
    "\n",
    "\n"
   ]
  },
  {
   "cell_type": "code",
   "execution_count": 20,
   "id": "854e2fe1",
   "metadata": {},
   "outputs": [],
   "source": [
    "S = pd.qcut( (DF[\"NU_NOTA_CN\"]+DF[\"NU_NOTA_LC\"]+DF[\"NU_NOTA_CH\"]+DF[\"NU_NOTA_MT\"]+DF[\"NU_NOTA_REDACAO\"])/5, q=5).value_counts().sort_index()\n",
    "qins = [0, S.index[1].left, S.index[2].left, S.index[3].left,S.index[4].left, 1000]"
   ]
  },
  {
   "cell_type": "code",
   "execution_count": 21,
   "id": "85d21186",
   "metadata": {},
   "outputs": [
    {
     "name": "stdout",
     "output_type": "stream",
     "text": [
      "(160.559, 462.74]     2428\n",
      "(462.74, 511.2]       2427\n",
      "(511.2, 558.648]      2423\n",
      "(558.648, 621.812]    2426\n",
      "(621.812, 836.14]     2426\n",
      "dtype: int64\n"
     ]
    },
    {
     "data": {
      "text/plain": [
       "[0, 462.74, 511.2, 558.648, 621.812, 1000]"
      ]
     },
     "execution_count": 21,
     "metadata": {},
     "output_type": "execute_result"
    }
   ],
   "source": [
    "print(S)\n",
    "qins"
   ]
  },
  {
   "cell_type": "code",
   "execution_count": 22,
   "id": "6c3409f9",
   "metadata": {},
   "outputs": [],
   "source": [
    "\n",
    "\n",
    "DF2[\"qut_MT\"] = pd.cut( DF[\"NU_NOTA_MT\"], bins = qins, labels= False)\n",
    "DF2[\"qut_LC\"] = pd.cut( DF[\"NU_NOTA_LC\"], bins = qins, labels= False)\n",
    "DF2[\"qut_CH\"] = pd.cut( DF[\"NU_NOTA_CH\"], bins = qins, labels= False)\n",
    "DF2[\"qut_CN\"] = pd.cut( DF[\"NU_NOTA_CN\"], bins = qins, labels= False)\n",
    "DF2[\"qut_RE\"] = pd.cut( DF[\"NU_NOTA_REDACAO\"], bins = qins, labels= False)\n",
    "DF2[\"qut_OB\"] = pd.cut( (DF[\"NU_NOTA_CN\"]+DF[\"NU_NOTA_LC\"]+DF[\"NU_NOTA_CH\"]+DF[\"NU_NOTA_MT\"])/4, bins = qins, labels= False)\n",
    "DF2[\"qut_GE\"] = pd.cut( (DF[\"NU_NOTA_CN\"]+DF[\"NU_NOTA_LC\"]+DF[\"NU_NOTA_CH\"]+DF[\"NU_NOTA_MT\"]+DF[\"NU_NOTA_REDACAO\"])/5, bins = qins, labels= False)\n",
    "\n",
    "\n",
    "\n"
   ]
  },
  {
   "cell_type": "markdown",
   "id": "ba64d243",
   "metadata": {},
   "source": [
    "# Salva DF2"
   ]
  },
  {
   "cell_type": "code",
   "execution_count": 23,
   "id": "90231acc",
   "metadata": {},
   "outputs": [],
   "source": [
    "DF2.to_csv(Arquivo.split(\".\")[0]+\"_DF2_.csv\")"
   ]
  },
  {
   "cell_type": "code",
   "execution_count": 24,
   "id": "a92ff3eb",
   "metadata": {},
   "outputs": [],
   "source": [
    "DF2 = DF2.dropna()"
   ]
  },
  {
   "cell_type": "markdown",
   "id": "224cfa2f",
   "metadata": {},
   "source": [
    " # Cria vetor com nome das features"
   ]
  },
  {
   "cell_type": "code",
   "execution_count": 25,
   "id": "96037200",
   "metadata": {},
   "outputs": [],
   "source": [
    "features = DF2.drop(endogenas, axis=1).columns"
   ]
  },
  {
   "cell_type": "markdown",
   "id": "e47a0ff4",
   "metadata": {},
   "source": [
    " # Separa em dados de treino e teste"
   ]
  },
  {
   "cell_type": "code",
   "execution_count": 26,
   "id": "a56129ff",
   "metadata": {},
   "outputs": [],
   "source": [
    "# Divide os dados em conjuntos de treinamento e teste\n",
    "X_train, X_test, Y_train, Y_test = train_test_split(DF2.drop(endogenas,axis=1), DF2[endogenas], test_size=0.1)\n"
   ]
  },
  {
   "cell_type": "code",
   "execution_count": null,
   "id": "4e80da26",
   "metadata": {},
   "outputs": [],
   "source": []
  },
  {
   "cell_type": "code",
   "execution_count": null,
   "id": "381ca52e",
   "metadata": {},
   "outputs": [],
   "source": []
  },
  {
   "cell_type": "markdown",
   "id": "3a454325",
   "metadata": {},
   "source": [
    "# Regressão Logística\n",
    "\n",
    "\n"
   ]
  },
  {
   "cell_type": "code",
   "execution_count": 27,
   "id": "6ecfd443",
   "metadata": {},
   "outputs": [
    {
     "name": "stdout",
     "output_type": "stream",
     "text": [
      "0.7290552584670231\n"
     ]
    }
   ],
   "source": [
    "\n",
    "log_reg = LogisticRegression(max_iter = 1000)\n",
    "\n",
    "regcut_GE = log_reg.fit(X_train,Y_train['cut_GE'])\n",
    "print(regressao.score(X_test,Y_test['cut_GE']))\n",
    "\n",
    "regressao = log_reg.fit(X_train,Y_train['cut_GE'])\n",
    "print(regressao.score(X_test,Y_test['cut_GE']))"
   ]
  },
  {
   "cell_type": "code",
   "execution_count": 28,
   "id": "822cc051",
   "metadata": {},
   "outputs": [
    {
     "data": {
      "text/plain": [
       "['Regressao_geral003_MICRODADOS_ENEM_2020_1-300.txt']"
      ]
     },
     "execution_count": 28,
     "metadata": {},
     "output_type": "execute_result"
    }
   ],
   "source": [
    "from joblib import dump\n",
    "\n",
    "export = [X_test, Y_test, regressao]\n",
    "\n",
    "dump(export,\"Regressao_geral003_\"+Arquivo.split('.')[0]+\".txt\")"
   ]
  },
  {
   "cell_type": "code",
   "execution_count": null,
   "id": "7101a022",
   "metadata": {},
   "outputs": [],
   "source": []
  },
  {
   "cell_type": "code",
   "execution_count": null,
   "id": "dd4b1f92",
   "metadata": {},
   "outputs": [],
   "source": []
  },
  {
   "cell_type": "code",
   "execution_count": null,
   "id": "16404f0a",
   "metadata": {},
   "outputs": [],
   "source": []
  },
  {
   "cell_type": "code",
   "execution_count": null,
   "id": "e6dd20d8",
   "metadata": {},
   "outputs": [],
   "source": []
  },
  {
   "cell_type": "code",
   "execution_count": null,
   "id": "2b1e186f",
   "metadata": {},
   "outputs": [],
   "source": []
  },
  {
   "cell_type": "code",
   "execution_count": null,
   "id": "d3e838cb",
   "metadata": {},
   "outputs": [],
   "source": []
  },
  {
   "cell_type": "code",
   "execution_count": null,
   "id": "7fffef7e",
   "metadata": {},
   "outputs": [],
   "source": []
  },
  {
   "cell_type": "code",
   "execution_count": null,
   "id": "eba69208",
   "metadata": {},
   "outputs": [],
   "source": []
  },
  {
   "cell_type": "code",
   "execution_count": null,
   "id": "29b79d49",
   "metadata": {},
   "outputs": [],
   "source": []
  },
  {
   "cell_type": "code",
   "execution_count": null,
   "id": "cc370530",
   "metadata": {},
   "outputs": [],
   "source": []
  },
  {
   "cell_type": "code",
   "execution_count": null,
   "id": "a7e13d40",
   "metadata": {},
   "outputs": [],
   "source": []
  },
  {
   "cell_type": "code",
   "execution_count": null,
   "id": "3bf3780e",
   "metadata": {},
   "outputs": [],
   "source": []
  },
  {
   "cell_type": "code",
   "execution_count": null,
   "id": "464a5efc",
   "metadata": {},
   "outputs": [],
   "source": []
  }
 ],
 "metadata": {
  "kernelspec": {
   "display_name": "Python 3 (ipykernel)",
   "language": "python",
   "name": "python3"
  },
  "language_info": {
   "codemirror_mode": {
    "name": "ipython",
    "version": 3
   },
   "file_extension": ".py",
   "mimetype": "text/x-python",
   "name": "python",
   "nbconvert_exporter": "python",
   "pygments_lexer": "ipython3",
   "version": "3.10.9"
  }
 },
 "nbformat": 4,
 "nbformat_minor": 5
}
